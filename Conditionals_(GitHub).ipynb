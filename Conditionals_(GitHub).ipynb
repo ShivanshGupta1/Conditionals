{
  "nbformat": 4,
  "nbformat_minor": 0,
  "metadata": {
    "colab": {
      "name": "Conditionals (GitHub).ipynb",
      "provenance": [],
      "authorship_tag": "ABX9TyMUlCgWbb7v8JBnskMu813g",
      "include_colab_link": true
    },
    "kernelspec": {
      "name": "python3",
      "display_name": "Python 3"
    }
  },
  "cells": [
    {
      "cell_type": "markdown",
      "metadata": {
        "id": "view-in-github",
        "colab_type": "text"
      },
      "source": [
        "<a href=\"https://colab.research.google.com/github/ShivanshGupta1/Conditionals/blob/main/Conditionals_(GitHub).ipynb\" target=\"_parent\"><img src=\"https://colab.research.google.com/assets/colab-badge.svg\" alt=\"Open In Colab\"/></a>"
      ]
    },
    {
      "cell_type": "code",
      "metadata": {
        "id": "Y2L2GuqexlFQ"
      },
      "source": [
        "print(20<30)\n",
        "print(20<=30)\n",
        "print(20==30)\n",
        "print(20!=30)\n",
        "print(20>30)\n",
        "print(20>=30)"
      ],
      "execution_count": null,
      "outputs": []
    },
    {
      "cell_type": "code",
      "metadata": {
        "id": "g8gOlahjxqD7"
      },
      "source": [
        "a = 40\n",
        "b = 50\n",
        "print(a<b)\n",
        "print(a<=b)\n",
        "print(a>b)\n",
        "print(a>=b)\n",
        "print(a==b)\n",
        "print(a!=b)"
      ],
      "execution_count": null,
      "outputs": []
    },
    {
      "cell_type": "code",
      "metadata": {
        "id": "NyVe88-WxrVC"
      },
      "source": [
        "a = 10\n",
        "b = 20\n",
        "if b>=a:\n",
        "  print(a+b) #Syntax for conditional statments is \"if condition:\""
      ],
      "execution_count": null,
      "outputs": []
    },
    {
      "cell_type": "code",
      "metadata": {
        "id": "gmGln0yTxsWt"
      },
      "source": [
        "a = 5\n",
        "b = 5\n",
        "if b<a:\n",
        "  print(a+b)\n",
        "elif a==b:\n",
        "  print(a**b)"
      ],
      "execution_count": null,
      "outputs": []
    },
    {
      "cell_type": "code",
      "metadata": {
        "id": "pTJwkKfnxuo-"
      },
      "source": [
        "a = 5\n",
        "b = 5\n",
        "if b<a:\n",
        "  print(a+b)\n",
        "elif a>b:\n",
        "  print(a**b)\n",
        "else:\n",
        "  print('a is equal to b')"
      ],
      "execution_count": null,
      "outputs": []
    },
    {
      "cell_type": "code",
      "metadata": {
        "id": "kYTj-hqlyUQg"
      },
      "source": [
        "a = int(input('First Number: '))\n",
        "b = int(input('Second Number: '))\n",
        "if a-b<=0.001:\n",
        "  print('Close')\n",
        "else:\n",
        "  print('Not Close')"
      ],
      "execution_count": null,
      "outputs": []
    },
    {
      "cell_type": "code",
      "metadata": {
        "id": "8FsN-KJ_yV7C"
      },
      "source": [
        "a = 40\n",
        "b = 10\n",
        "if a>=b:\n",
        "  if a!=b:\n",
        "    if a>b:\n",
        "      print(a)\n",
        "else:\n",
        "  print('Invalid')"
      ],
      "execution_count": null,
      "outputs": []
    }
  ]
}